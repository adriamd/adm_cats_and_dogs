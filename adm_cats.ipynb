{
 "cells": [
  {
   "cell_type": "code",
   "execution_count": 1,
   "metadata": {
    "pycharm": {
     "is_executing": true
    }
   },
   "outputs": [],
   "source": [
    "import pandas as pd\n",
    "import numpy as np\n",
    "import matplotlib.pyplot as plt"
   ]
  },
  {
   "attachments": {},
   "cell_type": "markdown",
   "metadata": {},
   "source": [
    "# Import dataset"
   ]
  },
  {
   "cell_type": "code",
   "execution_count": 2,
   "metadata": {},
   "outputs": [],
   "source": [
    "import os\n",
    "from scipy.io import wavfile"
   ]
  },
  {
   "cell_type": "code",
   "execution_count": 3,
   "metadata": {},
   "outputs": [],
   "source": [
    "data_path = 'data_cat_dog/cats_dogs'\n",
    "files = os.listdir(data_path)\n",
    "\n",
    "df = pd.DataFrame(columns = ['rate', 'sound', 'animal', 'file'])\n",
    "i=0\n",
    "for file in files:\n",
    "    if file != 'train' and file != 'test':\n",
    "        rate, sound = wavfile.read(data_path + \"/\" + file)\n",
    "        animal = 'cat' if 'cat' in file else 'dog'\n",
    "        # doc: https://docs.scipy.org/doc/scipy/reference/generated/scipy.io.wavfile.read.html\n",
    "        df.loc[i] = [rate, sound, animal, file]\n",
    "        i += 1"
   ]
  },
  {
   "attachments": {},
   "cell_type": "markdown",
   "metadata": {},
   "source": [
    "# Explore dataset"
   ]
  },
  {
   "cell_type": "code",
   "execution_count": 4,
   "metadata": {},
   "outputs": [
    {
     "data": {
      "text/html": [
       "<div>\n",
       "<style scoped>\n",
       "    .dataframe tbody tr th:only-of-type {\n",
       "        vertical-align: middle;\n",
       "    }\n",
       "\n",
       "    .dataframe tbody tr th {\n",
       "        vertical-align: top;\n",
       "    }\n",
       "\n",
       "    .dataframe thead th {\n",
       "        text-align: right;\n",
       "    }\n",
       "</style>\n",
       "<table border=\"1\" class=\"dataframe\">\n",
       "  <thead>\n",
       "    <tr style=\"text-align: right;\">\n",
       "      <th></th>\n",
       "      <th>rate</th>\n",
       "      <th>sound</th>\n",
       "      <th>animal</th>\n",
       "      <th>file</th>\n",
       "    </tr>\n",
       "  </thead>\n",
       "  <tbody>\n",
       "    <tr>\n",
       "      <th>0</th>\n",
       "      <td>16000</td>\n",
       "      <td>[124, 107, 7, -22, -64, -51, -27, -64, -137, -...</td>\n",
       "      <td>cat</td>\n",
       "      <td>cat_1.wav</td>\n",
       "    </tr>\n",
       "    <tr>\n",
       "      <th>1</th>\n",
       "      <td>16000</td>\n",
       "      <td>[-8, 0, 4, -13, -11, -9, -7, -14, -19, -22, 5,...</td>\n",
       "      <td>cat</td>\n",
       "      <td>cat_10.wav</td>\n",
       "    </tr>\n",
       "    <tr>\n",
       "      <th>2</th>\n",
       "      <td>16000</td>\n",
       "      <td>[-257, -275, -254, -288, -198, -140, -180, -11...</td>\n",
       "      <td>cat</td>\n",
       "      <td>cat_100.wav</td>\n",
       "    </tr>\n",
       "    <tr>\n",
       "      <th>3</th>\n",
       "      <td>16000</td>\n",
       "      <td>[-79, -140, -131, 139, 289, 232, 172, 208, 152...</td>\n",
       "      <td>cat</td>\n",
       "      <td>cat_101.wav</td>\n",
       "    </tr>\n",
       "    <tr>\n",
       "      <th>4</th>\n",
       "      <td>16000</td>\n",
       "      <td>[-206, -55, 120, 43, -123, -235, -324, -293, -...</td>\n",
       "      <td>cat</td>\n",
       "      <td>cat_102.wav</td>\n",
       "    </tr>\n",
       "  </tbody>\n",
       "</table>\n",
       "</div>"
      ],
      "text/plain": [
       "    rate                                              sound animal  \\\n",
       "0  16000  [124, 107, 7, -22, -64, -51, -27, -64, -137, -...    cat   \n",
       "1  16000  [-8, 0, 4, -13, -11, -9, -7, -14, -19, -22, 5,...    cat   \n",
       "2  16000  [-257, -275, -254, -288, -198, -140, -180, -11...    cat   \n",
       "3  16000  [-79, -140, -131, 139, 289, 232, 172, 208, 152...    cat   \n",
       "4  16000  [-206, -55, 120, 43, -123, -235, -324, -293, -...    cat   \n",
       "\n",
       "          file  \n",
       "0    cat_1.wav  \n",
       "1   cat_10.wav  \n",
       "2  cat_100.wav  \n",
       "3  cat_101.wav  \n",
       "4  cat_102.wav  "
      ]
     },
     "execution_count": 4,
     "metadata": {},
     "output_type": "execute_result"
    }
   ],
   "source": [
    "df.head()"
   ]
  },
  {
   "cell_type": "code",
   "execution_count": 5,
   "metadata": {},
   "outputs": [
    {
     "data": {
      "text/plain": [
       "277"
      ]
     },
     "execution_count": 5,
     "metadata": {},
     "output_type": "execute_result"
    }
   ],
   "source": [
    "len(df)"
   ]
  },
  {
   "cell_type": "code",
   "execution_count": 6,
   "metadata": {},
   "outputs": [
    {
     "name": "stdout",
     "output_type": "stream",
     "text": [
      "[16000]\n"
     ]
    }
   ],
   "source": [
    "print(np.unique(df.rate)) # all the files have the same sample rate\n",
    "sample_rate = 16000 # so let's define this variable"
   ]
  },
  {
   "cell_type": "code",
   "execution_count": 7,
   "metadata": {},
   "outputs": [
    {
     "data": {
      "text/plain": [
       "max    287616\n",
       "min     14773\n",
       "Name: sound, dtype: int64"
      ]
     },
     "execution_count": 7,
     "metadata": {},
     "output_type": "execute_result"
    }
   ],
   "source": [
    "df.sound.apply(len).apply(\n",
    "    [max, min]\n",
    ")\n",
    "# the files have different size -> different duration"
   ]
  },
  {
   "cell_type": "code",
   "execution_count": 8,
   "metadata": {},
   "outputs": [],
   "source": [
    "# adding column duration\n",
    "df['duration'] = df.sound.apply(len) / df.rate"
   ]
  },
  {
   "cell_type": "code",
   "execution_count": 9,
   "metadata": {},
   "outputs": [
    {
     "data": {
      "image/png": "[encoded data removed]",
      "text/plain": [
       "<Figure size 432x288 with 1 Axes>"
      ]
     },
     "metadata": {
      "needs_background": "light"
     },
     "output_type": "display_data"
    },
    {
     "name": "stdout",
     "output_type": "stream",
     "text": [
      "0.9233125\n",
      "17.976\n"
     ]
    }
   ],
   "source": [
    "df[df.animal=='cat'].duration.plot.hist(bins=20, alpha = 0.5, label = 'cats')\n",
    "df[df.animal=='dog'].duration.plot.hist(bins=20, alpha = 0.5, label = 'dogs')\n",
    "plt.xlabel(\"Audio duration (s)\")\n",
    "plt.legend()\n",
    "plt.show()\n",
    "print(min(df.duration))\n",
    "print(max(df.duration))"
   ]
  },
  {
   "cell_type": "code",
   "execution_count": 10,
   "metadata": {},
   "outputs": [
    {
     "data": {
      "text/plain": [
       "<AxesSubplot:>"
      ]
     },
     "execution_count": 10,
     "metadata": {},
     "output_type": "execute_result"
    },
    {
     "data": {
      "image/png": "[encoded data removed]",
      "text/plain": [
       "<Figure size 432x288 with 1 Axes>"
      ]
     },
     "metadata": {},
     "output_type": "display_data"
    }
   ],
   "source": [
    "df[['animal', 'file']].groupby('animal').count().plot.pie(\n",
    "    y='file', legend=False, xlabel='', ylabel='', autopct='%1.1f%%')\n",
    "# dataset no está muy descompensado"
   ]
  },
  {
   "attachments": {},
   "cell_type": "markdown",
   "metadata": {},
   "source": [
    "# Plot sounds"
   ]
  },
  {
   "attachments": {},
   "cell_type": "markdown",
   "metadata": {},
   "source": [
    "tienen diferente duración cada audio, pero en cada audio suelen haber varios maullidos/ladridos -> se pueden cortar los audios en fragmentos más cortos y que siempre haya algún sonido en ellos"
   ]
  },
  {
   "cell_type": "code",
   "execution_count": 12,
   "metadata": {},
   "outputs": [],
   "source": [
    "def plotSounds(rows):\n",
    "    for row in rows:\n",
    "        y = df.loc[row, 'sound']\n",
    "        duration = df.loc[row, 'duration']\n",
    "        time_axis = np.linspace(0, duration, len(y))\n",
    "        label = df.loc[row, 'file']\n",
    "        #label = f\"Patient {df.loc[row, 'patient']}, {df.loc[row, 'diagnosis_multi']}\"\n",
    "        plt.plot(time_axis, list(y), label = label, alpha=0.5)\n",
    "    plt.legend()\n",
    "    plt.xlabel(\"Time (s)\")\n",
    "    plt.ylabel(\"Amplitude\")"
   ]
  },
  {
   "attachments": {},
   "cell_type": "markdown",
   "metadata": {},
   "source": [
    "observamos que los perros tienen en general chillidos mas cortos y que se repiten varias veces, mientras que los gatos tienen un maullido más largo"
   ]
  },
  {
   "cell_type": "code",
   "execution_count": 13,
   "metadata": {},
   "outputs": [
    {
     "data": {
      "image/png": "[encoded data removed]",
      "text/plain": [
       "<Figure size 432x288 with 1 Axes>"
      ]
     },
     "metadata": {
      "needs_background": "light"
     },
     "output_type": "display_data"
    }
   ],
   "source": [
    "plotSounds([272,273,274,275])"
   ]
  },
  {
   "cell_type": "code",
   "execution_count": 14,
   "metadata": {},
   "outputs": [
    {
     "data": {
      "image/png": "[encoded data removed]",
      "text/plain": [
       "<Figure size 432x288 with 1 Axes>"
      ]
     },
     "metadata": {
      "needs_background": "light"
     },
     "output_type": "display_data"
    }
   ],
   "source": [
    "plotSounds([1,2,3,4])\n",
    "#plotSounds([3])"
   ]
  },
  {
   "attachments": {},
   "cell_type": "markdown",
   "metadata": {},
   "source": [
    "# Split train-test"
   ]
  },
  {
   "attachments": {},
   "cell_type": "markdown",
   "metadata": {},
   "source": [
    "se observa que el train set y el test set tienen mas o menos, la misma distribución que el dataset original (y la misma entre ellos) acerca de el ratio cats-dogs y de las duraciones de audios. si fueran muy diferentes habría problemas"
   ]
  },
  {
   "cell_type": "code",
   "execution_count": 15,
   "metadata": {},
   "outputs": [],
   "source": [
    "from sklearn.model_selection import train_test_split"
   ]
  },
  {
   "cell_type": "code",
   "execution_count": 16,
   "metadata": {},
   "outputs": [],
   "source": [
    "test_size = 0.3\n",
    "\n",
    "df_train, df_test = train_test_split(df, test_size=test_size, random_state=1)"
   ]
  },
  {
   "cell_type": "code",
   "execution_count": 17,
   "metadata": {},
   "outputs": [
    {
     "data": {
      "text/plain": [
       "<AxesSubplot:>"
      ]
     },
     "execution_count": 17,
     "metadata": {},
     "output_type": "execute_result"
    },
    {
     "data": {
      "image/png": "[encoded data removed]",
      "text/plain": [
       "<Figure size 432x288 with 1 Axes>"
      ]
     },
     "metadata": {},
     "output_type": "display_data"
    }
   ],
   "source": [
    "df_train[['animal', 'file']].groupby('animal').count().plot.pie(\n",
    "    y='file', legend=False, xlabel='', ylabel='', autopct='%1.1f%%')"
   ]
  },
  {
   "cell_type": "code",
   "execution_count": 18,
   "metadata": {},
   "outputs": [
    {
     "data": {
      "text/plain": [
       "<AxesSubplot:>"
      ]
     },
     "execution_count": 18,
     "metadata": {},
     "output_type": "execute_result"
    },
    {
     "data": {
      "image/png": "[encoded data removed]",
      "text/plain": [
       "<Figure size 432x288 with 1 Axes>"
      ]
     },
     "metadata": {},
     "output_type": "display_data"
    }
   ],
   "source": [
    "df_test[['animal', 'file']].groupby('animal').count().plot.pie(\n",
    "    y='file', legend=False, xlabel='', ylabel='', autopct='%1.1f%%')"
   ]
  },
  {
   "cell_type": "code",
   "execution_count": 19,
   "metadata": {},
   "outputs": [
    {
     "data": {
      "image/png": "[encoded data removed]",
      "text/plain": [
       "<Figure size 432x288 with 1 Axes>"
      ]
     },
     "metadata": {
      "needs_background": "light"
     },
     "output_type": "display_data"
    }
   ],
   "source": [
    "df_train[df_train.animal=='cat'].duration.plot.hist(bins=20, alpha = 0.5, label = 'cats')\n",
    "df_train[df_train.animal=='dog'].duration.plot.hist(bins=20, alpha = 0.5, label = 'dogs')\n",
    "plt.xlabel(\"Audio duration (s)\")\n",
    "plt.legend()\n",
    "plt.show()"
   ]
  },
  {
   "cell_type": "code",
   "execution_count": 20,
   "metadata": {},
   "outputs": [
    {
     "data": {
      "image/png": "[encoded data removed]",
      "text/plain": [
       "<Figure size 432x288 with 1 Axes>"
      ]
     },
     "metadata": {
      "needs_background": "light"
     },
     "output_type": "display_data"
    }
   ],
   "source": [
    "df_test[df_test.animal=='cat'].duration.plot.hist(bins=20, alpha = 0.5, label = 'cats')\n",
    "df_test[df_test.animal=='dog'].duration.plot.hist(bins=20, alpha = 0.5, label = 'dogs')\n",
    "plt.xlabel(\"Audio duration (s)\")\n",
    "plt.legend()\n",
    "plt.show()"
   ]
  },
  {
   "attachments": {},
   "cell_type": "markdown",
   "metadata": {},
   "source": [
    "# Split sounds in multiple shorter sounds"
   ]
  },
  {
   "attachments": {},
   "cell_type": "markdown",
   "metadata": {},
   "source": [
    "to apply the fourier transform and using certain frequencies to train, it is necessary that all the sounds have the same length\n",
    "\n",
    "train set: i am cutting all the sounds in pieces of 3s (it is enough to contain an animal sound)\n",
    "- if a sound is less than 3s, i drop it\n",
    "- if it is longer than 6s, i can include two pieces of itinclude it twice\n",
    "- if it is longer than 9s, i can have three clips of the original sound\n",
    "- etc.\n",
    "\n",
    "test set: i will also need the audios to have the same duration to the ones of training the model\n",
    "- if a sound is shorter than 3s -> drop it -> that will be a limitation of the model\n",
    "    - another option would be to fill it with a blank sound until reaching the 3s\n",
    "- for instances longer than 6s, i would have multiple samples of the same sound, so i can \"test multiple times\" and select the animal with larger overall probability -> the longer is a sample, the better the model can predict (i expect)"
   ]
  },
  {
   "cell_type": "code",
   "execution_count": 21,
   "metadata": {},
   "outputs": [],
   "source": [
    "max_duration = 3"
   ]
  },
  {
   "cell_type": "code",
   "execution_count": 22,
   "metadata": {},
   "outputs": [],
   "source": [
    "def soundSplitter(s, max_duration):\n",
    "    max_length = max_duration * sample_rate\n",
    "    if len(s) < max_length:\n",
    "        return []\n",
    "    return [s[0:max_length]] + soundSplitter(s[max_length:], max_duration)"
   ]
  },
  {
   "cell_type": "code",
   "execution_count": 23,
   "metadata": {},
   "outputs": [
    {
     "name": "stdout",
     "output_type": "stream",
     "text": [
      "11.2\n"
     ]
    },
    {
     "data": {
      "text/plain": [
       "[array([  124,   107,     7, ...,  -761, -1027, -1221], dtype=int16),\n",
       " array([-1303, -1341, -1221, ...,  -495,   924,  2193], dtype=int16),\n",
       " array([2703, 2400, 1952, ...,  161,  230,  316], dtype=int16)]"
      ]
     },
     "execution_count": 23,
     "metadata": {},
     "output_type": "execute_result"
    }
   ],
   "source": [
    "# example:\n",
    "print(df.duration[0])\n",
    "soundSplitter( df.sound[0], 3)\n"
   ]
  },
  {
   "attachments": {},
   "cell_type": "markdown",
   "metadata": {},
   "source": [
    "## refactor train set and test set"
   ]
  },
  {
   "attachments": {},
   "cell_type": "markdown",
   "metadata": {},
   "source": [
    "in the test set do the same than in the train set\n",
    "\n",
    "(in both cases), keep a column with the id (filename) of the original audio. then, after evaluating the test set, i can group by filename and sum the probabilities of each file"
   ]
  },
  {
   "cell_type": "code",
   "execution_count": 26,
   "metadata": {},
   "outputs": [],
   "source": [
    "def splitAudiosDf(old_df, max_duration):\n",
    "    new_df = pd.DataFrame(columns=['rate', 'sound', 'animal', 'file', 'clip_id'])\n",
    "    i=0\n",
    "    for row in old_df.index:\n",
    "        clips = soundSplitter(df.loc[row, 'sound'], max_duration)\n",
    "        for clip in clips:\n",
    "            new_df.loc[i, 'rate'] = old_df.loc[row, 'rate']\n",
    "            new_df.loc[i, 'sound'] = clip\n",
    "            new_df.loc[i, 'animal'] = old_df.loc[row, 'animal']\n",
    "            new_df.loc[i, 'file'] = old_df.loc[row, 'file']\n",
    "            new_df.loc[i, 'clip_id'] = i\n",
    "            i = i+1\n",
    "    return new_df\n",
    "\n",
    "    "
   ]
  },
  {
   "cell_type": "code",
   "execution_count": 27,
   "metadata": {},
   "outputs": [],
   "source": [
    "df_train2 = splitAudiosDf(df_train, max_duration)\n",
    "df_test2 = splitAudiosDf(df_test, max_duration)\n"
   ]
  },
  {
   "attachments": {},
   "cell_type": "markdown",
   "metadata": {},
   "source": [
    "see also how the number of videos for the train set has increased, although shorter -> better model (?)"
   ]
  },
  {
   "cell_type": "code",
   "execution_count": 28,
   "metadata": {},
   "outputs": [
    {
     "data": {
      "text/plain": [
       "193"
      ]
     },
     "execution_count": 28,
     "metadata": {},
     "output_type": "execute_result"
    }
   ],
   "source": [
    "len(df_train)"
   ]
  },
  {
   "cell_type": "code",
   "execution_count": 29,
   "metadata": {},
   "outputs": [
    {
     "data": {
      "text/plain": [
       "357"
      ]
     },
     "execution_count": 29,
     "metadata": {},
     "output_type": "execute_result"
    }
   ],
   "source": [
    "len(df_train2)"
   ]
  },
  {
   "attachments": {},
   "cell_type": "markdown",
   "metadata": {},
   "source": [
    "# Transformation to time-frequency domain"
   ]
  },
  {
   "attachments": {},
   "cell_type": "markdown",
   "metadata": {},
   "source": [
    "i perform stft to the signals. since all of them have the same length, the output of all of them has the same dimensions and consists in the same frequencies and time moments\n",
    "\n",
    "stft stands for short time fourier transform. it is an algorithm that applies fourier transforms (fft) to small time windows, so we have the frequencies along time, resulting in 2d-plots time-freq-amplitude, that we can interpret as images"
   ]
  },
  {
   "cell_type": "code",
   "execution_count": 30,
   "metadata": {},
   "outputs": [],
   "source": [
    "import librosa\n",
    "import librosa.display"
   ]
  },
  {
   "cell_type": "code",
   "execution_count": 32,
   "metadata": {},
   "outputs": [],
   "source": [
    "def melTransform(clip):\n",
    "    return librosa.amplitude_to_db(np.abs(librosa.stft(clip*1.0)), ref=np.max)\n",
    "\n",
    "def melTransformMulti(clip_list):\n",
    "    return np.array([\n",
    "        melTransform(np.array(clip)) for clip in clip_list\n",
    "    ])\n"
   ]
  },
  {
   "cell_type": "code",
   "execution_count": 61,
   "metadata": {},
   "outputs": [
    {
     "name": "stdout",
     "output_type": "stream",
     "text": [
      "(1025, 94)\n"
     ]
    },
    {
     "data": {
      "image/png": "[encoded data removed]",
      "text/plain": [
       "<Figure size 432x288 with 2 Axes>"
      ]
     },
     "metadata": {
      "needs_background": "light"
     },
     "output_type": "display_data"
    }
   ],
   "source": [
    "# example of the stft transformation:\n",
    "# - with a longer audio clip:\n",
    "sound = df_train.sound[df_train.index[0]]*1.0 # (*1.0 because it needs float, not int)\n",
    "# - with a shortened clip:\n",
    "sound = df_train2.sound[df_train2.index[0]]*1.0\n",
    "sound_tf = librosa.amplitude_to_db(np.abs(librosa.stft(sound)), ref=np.max)\n",
    "librosa.display.specshow(sound_tf, sr=rate, x_axis='time', y_axis='log')\n",
    "plt.colorbar(format='%+2.0f dB')\n",
    "plt.xlabel(\"Time (s)\")\n",
    "print(sound_tf.shape)\n"
   ]
  },
  {
   "cell_type": "code",
   "execution_count": 62,
   "metadata": {},
   "outputs": [
    {
     "data": {
      "text/plain": [
       "Text(0, 0.5, 'Amplitude')"
      ]
     },
     "execution_count": 62,
     "metadata": {},
     "output_type": "execute_result"
    },
    {
     "data": {
      "image/png": "[encoded data removed]",
      "text/plain": [
       "<Figure size 432x288 with 1 Axes>"
      ]
     },
     "metadata": {
      "needs_background": "light"
     },
     "output_type": "display_data"
    }
   ],
   "source": [
    "# the same image as above, but with a time dependent chart\n",
    "y = df_train2.loc[0, 'sound']\n",
    "duration = len(y)/rate\n",
    "time_axis = np.linspace(0, duration, len(y))\n",
    "plt.plot(time_axis, list(y))\n",
    "plt.xlabel(\"Time (s)\")\n",
    "plt.ylabel(\"Amplitude\")"
   ]
  },
  {
   "cell_type": "code",
   "execution_count": 35,
   "metadata": {},
   "outputs": [
    {
     "data": {
      "text/plain": [
       "(357, 1025, 94)"
      ]
     },
     "execution_count": 35,
     "metadata": {},
     "output_type": "execute_result"
    }
   ],
   "source": [
    "df_train_mel = melTransformMulti(df_train2.sound)\n",
    "df_train_mel.shape"
   ]
  },
  {
   "cell_type": "code",
   "execution_count": 36,
   "metadata": {},
   "outputs": [
    {
     "data": {
      "text/plain": [
       "(154, 1025, 94)"
      ]
     },
     "execution_count": 36,
     "metadata": {},
     "output_type": "execute_result"
    }
   ],
   "source": [
    "df_test_mel = melTransformMulti(df_test2.sound)\n",
    "df_test_mel.shape"
   ]
  },
  {
   "attachments": {},
   "cell_type": "markdown",
   "metadata": {},
   "source": [
    "# Model building and training"
   ]
  },
  {
   "cell_type": "code",
   "execution_count": 37,
   "metadata": {},
   "outputs": [],
   "source": [
    "import tensorflow as tf\n",
    "from sklearn.metrics import confusion_matrix\n",
    "from sklearn.metrics import roc_curve, auc"
   ]
  },
  {
   "cell_type": "code",
   "execution_count": 39,
   "metadata": {},
   "outputs": [],
   "source": [
    "# cnn model\n",
    "# some convolution layers (combine nearby 'pixels')\n",
    "# then a couple of dense layers (the normal neural network)\n",
    "\n",
    "model = tf.keras.models.Sequential([\n",
    "    # convolution 1\n",
    "    tf.keras.layers.Conv2D(16, (3,3), activation='relu', input_shape=(1025, 94, 1)),\n",
    "    tf.keras.layers.MaxPooling2D(2, 2),\n",
    "    #convolution 2\n",
    "    tf.keras.layers.Conv2D(32, (3,3), activation='relu'),\n",
    "    tf.keras.layers.MaxPooling2D(2,2),\n",
    "    # convolution 3\n",
    "    tf.keras.layers.Conv2D(64, (3,3), activation='relu'),\n",
    "    tf.keras.layers.MaxPooling2D(2,2),\n",
    "    # convolution 4\n",
    "    tf.keras.layers.Conv2D(64, (3,3), activation='relu'),\n",
    "    tf.keras.layers.MaxPooling2D(2,2),\n",
    "    # dense layers\n",
    "    tf.keras.layers.Flatten(),\n",
    "    tf.keras.layers.Dropout(0.5),\n",
    "    tf.keras.layers.Dense(256, activation='relu'),\n",
    "    #tf.keras.layers.Dense(128, activation='relu'),\n",
    "    tf.keras.layers.Dense(2, activation='softmax') \n",
    "])"
   ]
  },
  {
   "cell_type": "code",
   "execution_count": 40,
   "metadata": {},
   "outputs": [],
   "source": [
    "model.compile(loss='categorical_crossentropy', optimizer='adam', metrics=['accuracy'])\n",
    "x_train = np.expand_dims(df_train_mel, axis=-1)\n",
    "x_test = np.expand_dims(df_test_mel, axis=-1)\n",
    "y_train = tf.keras.utils.to_categorical(np.array(df_train2.animal == \"cat\")) # positive class = cat; negative class = dog\n",
    "y_test = tf.keras.utils.to_categorical(np.array(df_test2.animal == \"cat\"))"
   ]
  },
  {
   "cell_type": "code",
   "execution_count": 41,
   "metadata": {},
   "outputs": [
    {
     "name": "stdout",
     "output_type": "stream",
     "text": [
      "Epoch 1/100\n",
      "9/9 [==============================] - 22s 2s/step - loss: 22.5888 - accuracy: 0.4807 - val_loss: 0.5173 - val_accuracy: 0.7917\n",
      "Epoch 2/100\n",
      "9/9 [==============================] - 18s 2s/step - loss: 0.6239 - accuracy: 0.7053 - val_loss: 0.5530 - val_accuracy: 0.7917\n",
      "Epoch 3/100\n",
      "9/9 [==============================] - 19s 2s/step - loss: 0.6251 - accuracy: 0.6947 - val_loss: 0.5161 - val_accuracy: 0.7917\n",
      "Epoch 4/100\n",
      "9/9 [==============================] - 18s 2s/step - loss: 0.6409 - accuracy: 0.7053 - val_loss: 0.5823 - val_accuracy: 0.7917\n",
      "Epoch 5/100\n",
      "9/9 [==============================] - 18s 2s/step - loss: 0.6166 - accuracy: 0.7053 - val_loss: 0.5292 - val_accuracy: 0.7917\n",
      "Epoch 6/100\n",
      "9/9 [==============================] - 18s 2s/step - loss: 0.6099 - accuracy: 0.7053 - val_loss: 0.5321 - val_accuracy: 0.7917\n",
      "Epoch 7/100\n",
      "9/9 [==============================] - 18s 2s/step - loss: 0.6004 - accuracy: 0.7053 - val_loss: 0.5295 - val_accuracy: 0.7917\n",
      "Epoch 8/100\n",
      "9/9 [==============================] - 18s 2s/step - loss: 0.6009 - accuracy: 0.7053 - val_loss: 0.5314 - val_accuracy: 0.7917\n",
      "Epoch 9/100\n",
      "9/9 [==============================] - 19s 2s/step - loss: 0.5954 - accuracy: 0.7053 - val_loss: 0.5283 - val_accuracy: 0.7917\n",
      "Epoch 10/100\n",
      "9/9 [==============================] - 19s 2s/step - loss: 0.5924 - accuracy: 0.7053 - val_loss: 0.5241 - val_accuracy: 0.7917\n",
      "Epoch 11/100\n",
      "9/9 [==============================] - 19s 2s/step - loss: 0.5999 - accuracy: 0.7053 - val_loss: 0.5335 - val_accuracy: 0.7917\n",
      "Epoch 12/100\n",
      "9/9 [==============================] - 21s 2s/step - loss: 0.5872 - accuracy: 0.7053 - val_loss: 0.5167 - val_accuracy: 0.7917\n",
      "Epoch 13/100\n",
      "9/9 [==============================] - 17s 2s/step - loss: 0.5639 - accuracy: 0.7053 - val_loss: 0.4913 - val_accuracy: 0.7917\n",
      "Epoch 14/100\n",
      "9/9 [==============================] - 17s 2s/step - loss: 0.5516 - accuracy: 0.7053 - val_loss: 0.5012 - val_accuracy: 0.7917\n",
      "Epoch 15/100\n",
      "9/9 [==============================] - 17s 2s/step - loss: 0.5337 - accuracy: 0.7053 - val_loss: 0.4862 - val_accuracy: 0.7917\n",
      "Epoch 16/100\n",
      "9/9 [==============================] - 18s 2s/step - loss: 0.4849 - accuracy: 0.7053 - val_loss: 0.4353 - val_accuracy: 0.7917\n",
      "Epoch 17/100\n",
      "9/9 [==============================] - 18s 2s/step - loss: 0.4541 - accuracy: 0.7053 - val_loss: 0.4289 - val_accuracy: 0.7917\n",
      "Epoch 18/100\n",
      "9/9 [==============================] - 17s 2s/step - loss: 0.4840 - accuracy: 0.7053 - val_loss: 0.4583 - val_accuracy: 0.7917\n",
      "Epoch 19/100\n",
      "9/9 [==============================] - 18s 2s/step - loss: 0.4440 - accuracy: 0.7053 - val_loss: 0.4502 - val_accuracy: 0.7917\n",
      "Epoch 20/100\n",
      "9/9 [==============================] - 19s 2s/step - loss: 0.4083 - accuracy: 0.7439 - val_loss: 0.5168 - val_accuracy: 0.8056\n",
      "Epoch 21/100\n",
      "9/9 [==============================] - 18s 2s/step - loss: 0.4086 - accuracy: 0.8807 - val_loss: 0.5035 - val_accuracy: 0.8611\n",
      "Epoch 22/100\n",
      "9/9 [==============================] - 20s 2s/step - loss: 0.3938 - accuracy: 0.8632 - val_loss: 0.4913 - val_accuracy: 0.9167\n",
      "Epoch 23/100\n",
      "9/9 [==============================] - 18s 2s/step - loss: 0.3738 - accuracy: 0.8877 - val_loss: 0.5066 - val_accuracy: 0.9167\n",
      "Epoch 24/100\n",
      "9/9 [==============================] - 18s 2s/step - loss: 0.3779 - accuracy: 0.8842 - val_loss: 0.5653 - val_accuracy: 0.7917\n",
      "Epoch 25/100\n",
      "9/9 [==============================] - 19s 2s/step - loss: 0.3669 - accuracy: 0.8772 - val_loss: 0.5018 - val_accuracy: 0.8333\n",
      "Epoch 26/100\n",
      "9/9 [==============================] - 20s 2s/step - loss: 0.3282 - accuracy: 0.8912 - val_loss: 0.4483 - val_accuracy: 0.9028\n",
      "Epoch 27/100\n",
      "9/9 [==============================] - 18s 2s/step - loss: 0.2913 - accuracy: 0.8982 - val_loss: 0.7215 - val_accuracy: 0.7917\n",
      "Epoch 28/100\n",
      "9/9 [==============================] - 17s 2s/step - loss: 0.3245 - accuracy: 0.8702 - val_loss: 0.6646 - val_accuracy: 0.7778\n",
      "Epoch 29/100\n",
      "9/9 [==============================] - 18s 2s/step - loss: 0.3228 - accuracy: 0.8807 - val_loss: 0.5220 - val_accuracy: 0.7917\n",
      "Epoch 30/100\n",
      "9/9 [==============================] - 21s 2s/step - loss: 0.2816 - accuracy: 0.9053 - val_loss: 0.4267 - val_accuracy: 0.9167\n",
      "Epoch 31/100\n",
      "9/9 [==============================] - 19s 2s/step - loss: 0.2770 - accuracy: 0.8982 - val_loss: 0.4806 - val_accuracy: 0.9167\n",
      "Epoch 32/100\n",
      "9/9 [==============================] - 19s 2s/step - loss: 0.2637 - accuracy: 0.8947 - val_loss: 0.5208 - val_accuracy: 0.8889\n",
      "Epoch 33/100\n",
      "9/9 [==============================] - 18s 2s/step - loss: 0.2544 - accuracy: 0.8982 - val_loss: 0.5505 - val_accuracy: 0.8194\n",
      "Epoch 34/100\n",
      "9/9 [==============================] - 17s 2s/step - loss: 0.2682 - accuracy: 0.8947 - val_loss: 0.5006 - val_accuracy: 0.8333\n",
      "Epoch 35/100\n",
      "9/9 [==============================] - 19s 2s/step - loss: 0.2602 - accuracy: 0.8877 - val_loss: 0.4937 - val_accuracy: 0.8889\n",
      "Epoch 36/100\n",
      "9/9 [==============================] - 18s 2s/step - loss: 0.2295 - accuracy: 0.9053 - val_loss: 0.5241 - val_accuracy: 0.8889\n",
      "Epoch 37/100\n",
      "9/9 [==============================] - 17s 2s/step - loss: 0.2547 - accuracy: 0.9158 - val_loss: 0.4389 - val_accuracy: 0.9167\n",
      "Epoch 38/100\n",
      "9/9 [==============================] - 17s 2s/step - loss: 0.2267 - accuracy: 0.9193 - val_loss: 0.4557 - val_accuracy: 0.9167\n",
      "Epoch 39/100\n",
      "9/9 [==============================] - 18s 2s/step - loss: 0.2390 - accuracy: 0.9263 - val_loss: 0.6224 - val_accuracy: 0.7917\n",
      "Epoch 40/100\n",
      "9/9 [==============================] - 18s 2s/step - loss: 0.2390 - accuracy: 0.9123 - val_loss: 0.4897 - val_accuracy: 0.8333\n",
      "Epoch 41/100\n",
      "9/9 [==============================] - 18s 2s/step - loss: 0.3158 - accuracy: 0.8561 - val_loss: 0.7838 - val_accuracy: 0.7500\n",
      "Epoch 42/100\n",
      "9/9 [==============================] - 17s 2s/step - loss: 0.2497 - accuracy: 0.8982 - val_loss: 0.5713 - val_accuracy: 0.8611\n",
      "Epoch 43/100\n",
      "9/9 [==============================] - 18s 2s/step - loss: 0.2353 - accuracy: 0.9053 - val_loss: 0.5744 - val_accuracy: 0.8333\n",
      "Epoch 44/100\n",
      "9/9 [==============================] - 18s 2s/step - loss: 0.2029 - accuracy: 0.9123 - val_loss: 0.5048 - val_accuracy: 0.9167\n",
      "Epoch 45/100\n",
      "9/9 [==============================] - 17s 2s/step - loss: 0.2136 - accuracy: 0.9158 - val_loss: 0.4707 - val_accuracy: 0.9167\n",
      "Epoch 46/100\n",
      "9/9 [==============================] - 17s 2s/step - loss: 0.2451 - accuracy: 0.9018 - val_loss: 0.4233 - val_accuracy: 0.8889\n",
      "Epoch 47/100\n",
      "9/9 [==============================] - 17s 2s/step - loss: 0.2418 - accuracy: 0.8947 - val_loss: 0.5583 - val_accuracy: 0.8056\n",
      "Epoch 48/100\n",
      "9/9 [==============================] - 19s 2s/step - loss: 0.2605 - accuracy: 0.9018 - val_loss: 0.5977 - val_accuracy: 0.8194\n",
      "Epoch 49/100\n",
      "9/9 [==============================] - 16s 2s/step - loss: 0.2306 - accuracy: 0.9018 - val_loss: 0.5153 - val_accuracy: 0.8472\n",
      "Epoch 50/100\n",
      "9/9 [==============================] - 15s 2s/step - loss: 0.2258 - accuracy: 0.9123 - val_loss: 0.7341 - val_accuracy: 0.7917\n",
      "Epoch 51/100\n",
      "9/9 [==============================] - 16s 2s/step - loss: 0.2061 - accuracy: 0.9263 - val_loss: 0.6098 - val_accuracy: 0.8194\n",
      "Epoch 52/100\n",
      "9/9 [==============================] - 15s 2s/step - loss: 0.2389 - accuracy: 0.9053 - val_loss: 0.6248 - val_accuracy: 0.8056\n",
      "Epoch 53/100\n",
      "9/9 [==============================] - 15s 2s/step - loss: 0.1784 - accuracy: 0.9298 - val_loss: 0.5901 - val_accuracy: 0.8472\n",
      "Epoch 54/100\n",
      "9/9 [==============================] - 15s 2s/step - loss: 0.1830 - accuracy: 0.9158 - val_loss: 0.5131 - val_accuracy: 0.8472\n",
      "Epoch 55/100\n",
      "9/9 [==============================] - 15s 2s/step - loss: 0.1651 - accuracy: 0.9368 - val_loss: 0.5371 - val_accuracy: 0.8472\n",
      "Epoch 56/100\n",
      "9/9 [==============================] - 16s 2s/step - loss: 0.1856 - accuracy: 0.9263 - val_loss: 0.8305 - val_accuracy: 0.7778\n",
      "Epoch 57/100\n",
      "9/9 [==============================] - 17s 2s/step - loss: 0.2098 - accuracy: 0.9368 - val_loss: 0.8035 - val_accuracy: 0.7778\n",
      "Epoch 58/100\n",
      "9/9 [==============================] - 16s 2s/step - loss: 0.1585 - accuracy: 0.9439 - val_loss: 0.5429 - val_accuracy: 0.8611\n",
      "Epoch 59/100\n",
      "9/9 [==============================] - 16s 2s/step - loss: 0.1968 - accuracy: 0.9228 - val_loss: 0.7755 - val_accuracy: 0.8056\n",
      "Epoch 60/100\n",
      "9/9 [==============================] - 16s 2s/step - loss: 0.2045 - accuracy: 0.9298 - val_loss: 0.6021 - val_accuracy: 0.8611\n",
      "Epoch 61/100\n",
      "9/9 [==============================] - 16s 2s/step - loss: 0.1497 - accuracy: 0.9474 - val_loss: 0.7065 - val_accuracy: 0.8333\n",
      "Epoch 62/100\n",
      "9/9 [==============================] - 15s 2s/step - loss: 0.1336 - accuracy: 0.9509 - val_loss: 0.5853 - val_accuracy: 0.8611\n",
      "Epoch 63/100\n",
      "9/9 [==============================] - 15s 2s/step - loss: 0.1263 - accuracy: 0.9579 - val_loss: 0.5345 - val_accuracy: 0.9167\n",
      "Epoch 64/100\n",
      "9/9 [==============================] - 15s 2s/step - loss: 0.1572 - accuracy: 0.9298 - val_loss: 0.6359 - val_accuracy: 0.8611\n",
      "Epoch 65/100\n",
      "9/9 [==============================] - 17s 2s/step - loss: 0.1459 - accuracy: 0.9404 - val_loss: 0.7891 - val_accuracy: 0.8194\n",
      "Epoch 66/100\n",
      "9/9 [==============================] - 19s 2s/step - loss: 0.1338 - accuracy: 0.9474 - val_loss: 0.7518 - val_accuracy: 0.8194\n",
      "Epoch 67/100\n",
      "9/9 [==============================] - 16s 2s/step - loss: 0.1179 - accuracy: 0.9509 - val_loss: 0.6233 - val_accuracy: 0.8611\n",
      "Epoch 68/100\n",
      "9/9 [==============================] - 15s 2s/step - loss: 0.1017 - accuracy: 0.9719 - val_loss: 0.6415 - val_accuracy: 0.8611\n",
      "Epoch 69/100\n",
      "9/9 [==============================] - 17s 2s/step - loss: 0.0985 - accuracy: 0.9684 - val_loss: 0.8133 - val_accuracy: 0.8056\n",
      "Epoch 70/100\n",
      "9/9 [==============================] - 17s 2s/step - loss: 0.1168 - accuracy: 0.9649 - val_loss: 0.6635 - val_accuracy: 0.8472\n",
      "Epoch 71/100\n",
      "9/9 [==============================] - 16s 2s/step - loss: 0.1001 - accuracy: 0.9649 - val_loss: 0.8368 - val_accuracy: 0.7778\n",
      "Epoch 72/100\n",
      "9/9 [==============================] - 16s 2s/step - loss: 0.1096 - accuracy: 0.9544 - val_loss: 0.8292 - val_accuracy: 0.7778\n",
      "Epoch 73/100\n",
      "9/9 [==============================] - 15s 2s/step - loss: 0.0871 - accuracy: 0.9614 - val_loss: 0.8008 - val_accuracy: 0.7917\n",
      "Epoch 74/100\n",
      "9/9 [==============================] - 15s 2s/step - loss: 0.1043 - accuracy: 0.9579 - val_loss: 0.9032 - val_accuracy: 0.7917\n",
      "Epoch 75/100\n",
      "9/9 [==============================] - 15s 2s/step - loss: 0.1024 - accuracy: 0.9684 - val_loss: 0.8559 - val_accuracy: 0.8056\n",
      "Epoch 76/100\n",
      "9/9 [==============================] - 15s 2s/step - loss: 0.1069 - accuracy: 0.9684 - val_loss: 0.8108 - val_accuracy: 0.8194\n",
      "Epoch 77/100\n",
      "9/9 [==============================] - 17s 2s/step - loss: 0.0651 - accuracy: 0.9754 - val_loss: 0.8547 - val_accuracy: 0.8194\n",
      "Epoch 78/100\n",
      "9/9 [==============================] - 16s 2s/step - loss: 0.0839 - accuracy: 0.9754 - val_loss: 0.6581 - val_accuracy: 0.8750\n",
      "Epoch 79/100\n",
      "9/9 [==============================] - 17s 2s/step - loss: 0.1098 - accuracy: 0.9684 - val_loss: 0.7546 - val_accuracy: 0.8611\n",
      "Epoch 80/100\n",
      "9/9 [==============================] - 16s 2s/step - loss: 0.0940 - accuracy: 0.9614 - val_loss: 0.7839 - val_accuracy: 0.8611\n",
      "Epoch 81/100\n",
      "9/9 [==============================] - 17s 2s/step - loss: 0.0664 - accuracy: 0.9719 - val_loss: 0.6856 - val_accuracy: 0.9028\n",
      "Epoch 82/100\n",
      "9/9 [==============================] - 17s 2s/step - loss: 0.0860 - accuracy: 0.9754 - val_loss: 0.7240 - val_accuracy: 0.8611\n",
      "Epoch 83/100\n",
      "9/9 [==============================] - 19s 2s/step - loss: 0.0786 - accuracy: 0.9719 - val_loss: 1.1776 - val_accuracy: 0.7639\n",
      "Epoch 84/100\n",
      "9/9 [==============================] - 16s 2s/step - loss: 0.0699 - accuracy: 0.9754 - val_loss: 0.8816 - val_accuracy: 0.8333\n",
      "Epoch 85/100\n",
      "9/9 [==============================] - 15s 2s/step - loss: 0.0562 - accuracy: 0.9825 - val_loss: 0.9338 - val_accuracy: 0.8611\n",
      "Epoch 86/100\n",
      "9/9 [==============================] - 15s 2s/step - loss: 0.0825 - accuracy: 0.9719 - val_loss: 0.9939 - val_accuracy: 0.8056\n",
      "Epoch 87/100\n",
      "9/9 [==============================] - 17s 2s/step - loss: 0.0670 - accuracy: 0.9825 - val_loss: 0.7135 - val_accuracy: 0.8611\n",
      "Epoch 88/100\n",
      "9/9 [==============================] - 17s 2s/step - loss: 0.0643 - accuracy: 0.9754 - val_loss: 0.8202 - val_accuracy: 0.8472\n",
      "Epoch 89/100\n",
      "9/9 [==============================] - 17s 2s/step - loss: 0.0754 - accuracy: 0.9719 - val_loss: 0.7890 - val_accuracy: 0.8611\n",
      "Epoch 90/100\n",
      "9/9 [==============================] - 17s 2s/step - loss: 0.0561 - accuracy: 0.9860 - val_loss: 0.8239 - val_accuracy: 0.8611\n",
      "Epoch 91/100\n",
      "9/9 [==============================] - 18s 2s/step - loss: 0.0620 - accuracy: 0.9825 - val_loss: 0.6209 - val_accuracy: 0.8889\n",
      "Epoch 92/100\n",
      "9/9 [==============================] - 17s 2s/step - loss: 0.0495 - accuracy: 0.9825 - val_loss: 0.7906 - val_accuracy: 0.8750\n",
      "Epoch 93/100\n",
      "9/9 [==============================] - 17s 2s/step - loss: 0.0805 - accuracy: 0.9684 - val_loss: 0.9618 - val_accuracy: 0.8194\n",
      "Epoch 94/100\n",
      "9/9 [==============================] - 17s 2s/step - loss: 0.0900 - accuracy: 0.9684 - val_loss: 0.7901 - val_accuracy: 0.8333\n",
      "Epoch 95/100\n",
      "9/9 [==============================] - 17s 2s/step - loss: 0.1070 - accuracy: 0.9579 - val_loss: 0.8580 - val_accuracy: 0.8472\n",
      "Epoch 96/100\n",
      "9/9 [==============================] - 17s 2s/step - loss: 0.0867 - accuracy: 0.9684 - val_loss: 0.7701 - val_accuracy: 0.8750\n",
      "Epoch 97/100\n",
      "9/9 [==============================] - 17s 2s/step - loss: 0.0429 - accuracy: 0.9895 - val_loss: 0.8226 - val_accuracy: 0.8333\n",
      "Epoch 98/100\n",
      "9/9 [==============================] - 17s 2s/step - loss: 0.0807 - accuracy: 0.9649 - val_loss: 0.6793 - val_accuracy: 0.9306\n",
      "Epoch 99/100\n",
      "9/9 [==============================] - 18s 2s/step - loss: 0.0927 - accuracy: 0.9614 - val_loss: 1.0613 - val_accuracy: 0.8611\n",
      "Epoch 100/100\n",
      "9/9 [==============================] - 17s 2s/step - loss: 0.0928 - accuracy: 0.9754 - val_loss: 1.3205 - val_accuracy: 0.7639\n"
     ]
    },
    {
     "data": {
      "text/plain": [
       "<keras.callbacks.History at 0x26a273cb5b0>"
      ]
     },
     "execution_count": 41,
     "metadata": {},
     "output_type": "execute_result"
    }
   ],
   "source": [
    "model.fit(x_train, y_train, batch_size=32,epochs=100, validation_split=0.2)"
   ]
  },
  {
   "attachments": {},
   "cell_type": "markdown",
   "metadata": {},
   "source": [
    "save the model & load a saved model, to avoid the training time"
   ]
  },
  {
   "cell_type": "code",
   "execution_count": 42,
   "metadata": {},
   "outputs": [
    {
     "name": "stderr",
     "output_type": "stream",
     "text": [
      "WARNING:absl:Found untraced functions such as _jit_compiled_convolution_op, _jit_compiled_convolution_op, _jit_compiled_convolution_op, _jit_compiled_convolution_op while saving (showing 4 of 4). These functions will not be directly callable after loading.\n"
     ]
    },
    {
     "name": "stdout",
     "output_type": "stream",
     "text": [
      "INFO:tensorflow:Assets written to: model\\assets\n"
     ]
    },
    {
     "name": "stderr",
     "output_type": "stream",
     "text": [
      "INFO:tensorflow:Assets written to: model\\assets\n"
     ]
    }
   ],
   "source": [
    "model.save('model')"
   ]
  },
  {
   "cell_type": "code",
   "execution_count": 43,
   "metadata": {},
   "outputs": [],
   "source": [
    "model2 = tf.keras.models.load_model('model')"
   ]
  },
  {
   "attachments": {},
   "cell_type": "markdown",
   "metadata": {},
   "source": [
    "# Evaluation of the model"
   ]
  },
  {
   "cell_type": "code",
   "execution_count": 48,
   "metadata": {},
   "outputs": [
    {
     "name": "stdout",
     "output_type": "stream",
     "text": [
      "12/12 [==============================] - 6s 467ms/step\n",
      "5/5 [==============================] - 2s 480ms/step\n"
     ]
    }
   ],
   "source": [
    "# predicted values\n",
    "yh_train = model.predict(x_train)\n",
    "yh_test = model.predict(x_test)"
   ]
  },
  {
   "cell_type": "code",
   "execution_count": 49,
   "metadata": {},
   "outputs": [
    {
     "name": "stdout",
     "output_type": "stream",
     "text": [
      "[[36  6]\n",
      " [14 98]]\n",
      "\n",
      "\n",
      "[[ 96   3]\n",
      " [ 22 236]]\n"
     ]
    }
   ],
   "source": [
    "# confusion matrix\n",
    "print(confusion_matrix(\n",
    "    np.argmax(y_test, axis=1),\n",
    "    np.argmax(yh_test, axis=1)\n",
    "))\n",
    "print('\\n')\n",
    "print(confusion_matrix(\n",
    "    np.argmax(y_train, axis=1),\n",
    "    np.argmax(yh_train, axis=1)\n",
    "))"
   ]
  },
  {
   "cell_type": "code",
   "execution_count": 50,
   "metadata": {},
   "outputs": [
    {
     "name": "stdout",
     "output_type": "stream",
     "text": [
      "12/12 [==============================] - 6s 468ms/step - loss: 0.3388 - accuracy: 0.9300\n",
      "5/5 [==============================] - 2s 484ms/step - loss: 0.4298 - accuracy: 0.8701\n",
      "[0.33880025148391724, 0.9299719929695129]\n",
      "[0.42983582615852356, 0.8701298832893372]\n"
     ]
    }
   ],
   "source": [
    "# accuracy\n",
    "accuracy_train = model.evaluate(x_train, y_train)\n",
    "accuracy_test = model.evaluate(x_test, y_test)\n",
    "print(accuracy_train)\n",
    "print(accuracy_test)"
   ]
  },
  {
   "cell_type": "code",
   "execution_count": 52,
   "metadata": {},
   "outputs": [
    {
     "name": "stdout",
     "output_type": "stream",
     "text": [
      "0.9119897959183674\n"
     ]
    },
    {
     "data": {
      "text/plain": [
       "Text(0, 0.5, 'True positive rate')"
      ]
     },
     "execution_count": 52,
     "metadata": {},
     "output_type": "execute_result"
    },
    {
     "data": {
      "image/png": "[encoded data removed]",
      "text/plain": [
       "<Figure size 432x288 with 1 Axes>"
      ]
     },
     "metadata": {
      "needs_background": "light"
     },
     "output_type": "display_data"
    }
   ],
   "source": [
    "# roc curve\n",
    "fpr, tpr, thresholds = roc_curve(y_test[:,1], yh_test[:,1])\n",
    "roc_auc = auc(fpr, tpr)\n",
    "print(roc_auc)\n",
    "plt.plot(fpr, tpr)\n",
    "plt.xlabel('False positive rate')\n",
    "plt.ylabel('True positive rate')\n"
   ]
  }
 ],
 "metadata": {
  "kernelspec": {
   "display_name": "Python 3",
   "language": "python",
   "name": "python3"
  },
  "language_info": {
   "codemirror_mode": {
    "name": "ipython",
    "version": 3
   },
   "file_extension": ".py",
   "mimetype": "text/x-python",
   "name": "python",
   "nbconvert_exporter": "python",
   "pygments_lexer": "ipython3",
   "version": "3.9.13"
  },
  "orig_nbformat": 4
 },
 "nbformat": 4,
 "nbformat_minor": 2
}
